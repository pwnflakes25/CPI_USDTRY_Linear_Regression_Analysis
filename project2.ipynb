{
 "cells": [
  {
   "cell_type": "markdown",
   "metadata": {},
   "source": [
    "# Statistic 2 Project - Linear Regression Analysis between Turkey's Consumer Price Index (CPI) value and USD/TRY \n",
    "- Muhamad Firghili\n",
    "- Hassan Mohammad Hassan\n",
    "- Rakay Sadiq"
   ]
  },
  {
   "cell_type": "code",
   "execution_count": 1,
   "metadata": {},
   "outputs": [],
   "source": [
    "import pandas as pd\n",
    "import numpy as np\n",
    "import matplotlib.pyplot as plt\n",
    "import seaborn as sns"
   ]
  },
  {
   "cell_type": "markdown",
   "metadata": {},
   "source": [
    "## Data Formatting And Cleaning"
   ]
  },
  {
   "cell_type": "code",
   "execution_count": 2,
   "metadata": {},
   "outputs": [],
   "source": [
    "cpi_data = pd.read_excel(\"CPI_Turkey_f2003.xls\", sheet_name=\"cpi_numbers\")"
   ]
  },
  {
   "cell_type": "code",
   "execution_count": 3,
   "metadata": {
    "scrolled": true
   },
   "outputs": [],
   "source": [
    "cpi_data.set_index('Unnamed: 0', inplace=True)"
   ]
  },
  {
   "cell_type": "code",
   "execution_count": 4,
   "metadata": {},
   "outputs": [],
   "source": [
    "cpi_data = cpi_data.transpose()"
   ]
  },
  {
   "cell_type": "code",
   "execution_count": 5,
   "metadata": {
    "scrolled": true
   },
   "outputs": [
    {
     "data": {
      "text/html": [
       "<div>\n",
       "<style scoped>\n",
       "    .dataframe tbody tr th:only-of-type {\n",
       "        vertical-align: middle;\n",
       "    }\n",
       "\n",
       "    .dataframe tbody tr th {\n",
       "        vertical-align: top;\n",
       "    }\n",
       "\n",
       "    .dataframe thead th {\n",
       "        text-align: right;\n",
       "    }\n",
       "</style>\n",
       "<table border=\"1\" class=\"dataframe\">\n",
       "  <thead>\n",
       "    <tr style=\"text-align: right;\">\n",
       "      <th>Unnamed: 0</th>\n",
       "      <th>2003</th>\n",
       "      <th>2004</th>\n",
       "      <th>2005</th>\n",
       "      <th>2006</th>\n",
       "      <th>2007</th>\n",
       "      <th>2008</th>\n",
       "      <th>2009</th>\n",
       "      <th>2010</th>\n",
       "      <th>2011</th>\n",
       "      <th>2012</th>\n",
       "      <th>2013</th>\n",
       "      <th>2014</th>\n",
       "      <th>2015</th>\n",
       "      <th>2016</th>\n",
       "      <th>2017</th>\n",
       "      <th>2018</th>\n",
       "      <th>2019</th>\n",
       "      <th>2020</th>\n",
       "      <th>2021</th>\n",
       "    </tr>\n",
       "  </thead>\n",
       "  <tbody>\n",
       "    <tr>\n",
       "      <th>January</th>\n",
       "      <td>94.77</td>\n",
       "      <td>104.81</td>\n",
       "      <td>114.49</td>\n",
       "      <td>123.57</td>\n",
       "      <td>135.84</td>\n",
       "      <td>146.94</td>\n",
       "      <td>160.90</td>\n",
       "      <td>174.07</td>\n",
       "      <td>182.60</td>\n",
       "      <td>201.98</td>\n",
       "      <td>216.74</td>\n",
       "      <td>233.54</td>\n",
       "      <td>250.45</td>\n",
       "      <td>274.44</td>\n",
       "      <td>299.74</td>\n",
       "      <td>330.75</td>\n",
       "      <td>398.07</td>\n",
       "      <td>446.45</td>\n",
       "      <td>513.30</td>\n",
       "    </tr>\n",
       "    <tr>\n",
       "      <th>February</th>\n",
       "      <td>96.23</td>\n",
       "      <td>105.35</td>\n",
       "      <td>114.51</td>\n",
       "      <td>123.84</td>\n",
       "      <td>136.42</td>\n",
       "      <td>148.84</td>\n",
       "      <td>160.35</td>\n",
       "      <td>176.59</td>\n",
       "      <td>183.93</td>\n",
       "      <td>203.12</td>\n",
       "      <td>217.39</td>\n",
       "      <td>234.54</td>\n",
       "      <td>252.24</td>\n",
       "      <td>274.38</td>\n",
       "      <td>302.17</td>\n",
       "      <td>333.17</td>\n",
       "      <td>398.71</td>\n",
       "      <td>448.02</td>\n",
       "      <td>517.96</td>\n",
       "    </tr>\n",
       "    <tr>\n",
       "      <th>March</th>\n",
       "      <td>98.12</td>\n",
       "      <td>106.36</td>\n",
       "      <td>114.81</td>\n",
       "      <td>124.18</td>\n",
       "      <td>137.67</td>\n",
       "      <td>150.27</td>\n",
       "      <td>162.12</td>\n",
       "      <td>177.62</td>\n",
       "      <td>184.70</td>\n",
       "      <td>203.96</td>\n",
       "      <td>218.83</td>\n",
       "      <td>237.18</td>\n",
       "      <td>255.23</td>\n",
       "      <td>274.27</td>\n",
       "      <td>305.24</td>\n",
       "      <td>336.48</td>\n",
       "      <td>402.81</td>\n",
       "      <td>450.58</td>\n",
       "      <td>523.53</td>\n",
       "    </tr>\n",
       "    <tr>\n",
       "      <th>April</th>\n",
       "      <td>99.09</td>\n",
       "      <td>106.89</td>\n",
       "      <td>115.63</td>\n",
       "      <td>125.84</td>\n",
       "      <td>139.33</td>\n",
       "      <td>152.79</td>\n",
       "      <td>162.15</td>\n",
       "      <td>178.68</td>\n",
       "      <td>186.30</td>\n",
       "      <td>207.05</td>\n",
       "      <td>219.75</td>\n",
       "      <td>240.37</td>\n",
       "      <td>259.39</td>\n",
       "      <td>276.42</td>\n",
       "      <td>309.23</td>\n",
       "      <td>342.78</td>\n",
       "      <td>409.63</td>\n",
       "      <td>454.43</td>\n",
       "      <td>532.32</td>\n",
       "    </tr>\n",
       "    <tr>\n",
       "      <th>May</th>\n",
       "      <td>100.04</td>\n",
       "      <td>107.35</td>\n",
       "      <td>116.69</td>\n",
       "      <td>128.20</td>\n",
       "      <td>140.03</td>\n",
       "      <td>155.07</td>\n",
       "      <td>163.19</td>\n",
       "      <td>178.04</td>\n",
       "      <td>190.81</td>\n",
       "      <td>206.61</td>\n",
       "      <td>220.07</td>\n",
       "      <td>241.32</td>\n",
       "      <td>260.85</td>\n",
       "      <td>278.02</td>\n",
       "      <td>310.61</td>\n",
       "      <td>348.34</td>\n",
       "      <td>413.52</td>\n",
       "      <td>460.62</td>\n",
       "      <td>NaN</td>\n",
       "    </tr>\n",
       "    <tr>\n",
       "      <th>June</th>\n",
       "      <td>100.12</td>\n",
       "      <td>107.21</td>\n",
       "      <td>116.81</td>\n",
       "      <td>128.63</td>\n",
       "      <td>139.69</td>\n",
       "      <td>154.51</td>\n",
       "      <td>163.37</td>\n",
       "      <td>177.04</td>\n",
       "      <td>188.08</td>\n",
       "      <td>204.76</td>\n",
       "      <td>221.75</td>\n",
       "      <td>242.07</td>\n",
       "      <td>259.51</td>\n",
       "      <td>279.33</td>\n",
       "      <td>309.78</td>\n",
       "      <td>357.44</td>\n",
       "      <td>413.63</td>\n",
       "      <td>465.84</td>\n",
       "      <td>NaN</td>\n",
       "    </tr>\n",
       "    <tr>\n",
       "      <th>July</th>\n",
       "      <td>99.93</td>\n",
       "      <td>107.72</td>\n",
       "      <td>116.14</td>\n",
       "      <td>129.72</td>\n",
       "      <td>138.67</td>\n",
       "      <td>155.40</td>\n",
       "      <td>163.78</td>\n",
       "      <td>176.19</td>\n",
       "      <td>187.31</td>\n",
       "      <td>204.29</td>\n",
       "      <td>222.44</td>\n",
       "      <td>243.17</td>\n",
       "      <td>259.74</td>\n",
       "      <td>282.58</td>\n",
       "      <td>310.24</td>\n",
       "      <td>359.41</td>\n",
       "      <td>419.24</td>\n",
       "      <td>468.56</td>\n",
       "      <td>NaN</td>\n",
       "    </tr>\n",
       "    <tr>\n",
       "      <th>August</th>\n",
       "      <td>100.09</td>\n",
       "      <td>108.54</td>\n",
       "      <td>117.13</td>\n",
       "      <td>129.15</td>\n",
       "      <td>138.70</td>\n",
       "      <td>155.02</td>\n",
       "      <td>163.29</td>\n",
       "      <td>176.90</td>\n",
       "      <td>188.67</td>\n",
       "      <td>205.43</td>\n",
       "      <td>222.21</td>\n",
       "      <td>243.40</td>\n",
       "      <td>260.78</td>\n",
       "      <td>281.76</td>\n",
       "      <td>311.85</td>\n",
       "      <td>367.66</td>\n",
       "      <td>422.84</td>\n",
       "      <td>472.61</td>\n",
       "      <td>NaN</td>\n",
       "    </tr>\n",
       "    <tr>\n",
       "      <th>September</th>\n",
       "      <td>101.44</td>\n",
       "      <td>109.57</td>\n",
       "      <td>118.33</td>\n",
       "      <td>130.81</td>\n",
       "      <td>140.13</td>\n",
       "      <td>155.72</td>\n",
       "      <td>163.93</td>\n",
       "      <td>179.07</td>\n",
       "      <td>190.09</td>\n",
       "      <td>207.55</td>\n",
       "      <td>223.91</td>\n",
       "      <td>243.74</td>\n",
       "      <td>263.11</td>\n",
       "      <td>282.27</td>\n",
       "      <td>313.88</td>\n",
       "      <td>390.84</td>\n",
       "      <td>427.04</td>\n",
       "      <td>477.21</td>\n",
       "      <td>NaN</td>\n",
       "    </tr>\n",
       "    <tr>\n",
       "      <th>October</th>\n",
       "      <td>102.38</td>\n",
       "      <td>112.03</td>\n",
       "      <td>120.45</td>\n",
       "      <td>132.47</td>\n",
       "      <td>142.67</td>\n",
       "      <td>159.77</td>\n",
       "      <td>167.88</td>\n",
       "      <td>182.35</td>\n",
       "      <td>196.31</td>\n",
       "      <td>211.62</td>\n",
       "      <td>227.94</td>\n",
       "      <td>248.37</td>\n",
       "      <td>267.20</td>\n",
       "      <td>286.33</td>\n",
       "      <td>320.40</td>\n",
       "      <td>401.27</td>\n",
       "      <td>435.59</td>\n",
       "      <td>487.38</td>\n",
       "      <td>NaN</td>\n",
       "    </tr>\n",
       "  </tbody>\n",
       "</table>\n",
       "</div>"
      ],
      "text/plain": [
       "Unnamed: 0    2003    2004    2005    2006    2007    2008    2009    2010  \\\n",
       "January      94.77  104.81  114.49  123.57  135.84  146.94  160.90  174.07   \n",
       "February     96.23  105.35  114.51  123.84  136.42  148.84  160.35  176.59   \n",
       "March        98.12  106.36  114.81  124.18  137.67  150.27  162.12  177.62   \n",
       "April        99.09  106.89  115.63  125.84  139.33  152.79  162.15  178.68   \n",
       "May         100.04  107.35  116.69  128.20  140.03  155.07  163.19  178.04   \n",
       "June        100.12  107.21  116.81  128.63  139.69  154.51  163.37  177.04   \n",
       "July         99.93  107.72  116.14  129.72  138.67  155.40  163.78  176.19   \n",
       "August      100.09  108.54  117.13  129.15  138.70  155.02  163.29  176.90   \n",
       "September   101.44  109.57  118.33  130.81  140.13  155.72  163.93  179.07   \n",
       "October     102.38  112.03  120.45  132.47  142.67  159.77  167.88  182.35   \n",
       "\n",
       "Unnamed: 0    2011    2012    2013    2014    2015    2016    2017    2018  \\\n",
       "January     182.60  201.98  216.74  233.54  250.45  274.44  299.74  330.75   \n",
       "February    183.93  203.12  217.39  234.54  252.24  274.38  302.17  333.17   \n",
       "March       184.70  203.96  218.83  237.18  255.23  274.27  305.24  336.48   \n",
       "April       186.30  207.05  219.75  240.37  259.39  276.42  309.23  342.78   \n",
       "May         190.81  206.61  220.07  241.32  260.85  278.02  310.61  348.34   \n",
       "June        188.08  204.76  221.75  242.07  259.51  279.33  309.78  357.44   \n",
       "July        187.31  204.29  222.44  243.17  259.74  282.58  310.24  359.41   \n",
       "August      188.67  205.43  222.21  243.40  260.78  281.76  311.85  367.66   \n",
       "September   190.09  207.55  223.91  243.74  263.11  282.27  313.88  390.84   \n",
       "October     196.31  211.62  227.94  248.37  267.20  286.33  320.40  401.27   \n",
       "\n",
       "Unnamed: 0    2019    2020    2021  \n",
       "January     398.07  446.45  513.30  \n",
       "February    398.71  448.02  517.96  \n",
       "March       402.81  450.58  523.53  \n",
       "April       409.63  454.43  532.32  \n",
       "May         413.52  460.62     NaN  \n",
       "June        413.63  465.84     NaN  \n",
       "July        419.24  468.56     NaN  \n",
       "August      422.84  472.61     NaN  \n",
       "September   427.04  477.21     NaN  \n",
       "October     435.59  487.38     NaN  "
      ]
     },
     "execution_count": 5,
     "metadata": {},
     "output_type": "execute_result"
    }
   ],
   "source": [
    "cpi_data.head(10)"
   ]
  },
  {
   "cell_type": "markdown",
   "metadata": {},
   "source": [
    "We need to make it in the form of \" Month Year | value \" to allow for easier merging and analysis later on"
   ]
  },
  {
   "cell_type": "code",
   "execution_count": 6,
   "metadata": {},
   "outputs": [],
   "source": [
    "cpi_dates = []\n",
    "cpi_numbers = []\n",
    "for year in cpi_data:\n",
    "    cpi_data[year].apply(lambda x: cpi_numbers.append(x))\n",
    "    for month in cpi_data.index:\n",
    "        cpi_dates.append(\"{} {}\".format(month[:3], str(year)[2:]))"
   ]
  },
  {
   "cell_type": "code",
   "execution_count": 7,
   "metadata": {
    "scrolled": true
   },
   "outputs": [
    {
     "data": {
      "text/html": [
       "<div>\n",
       "<style scoped>\n",
       "    .dataframe tbody tr th:only-of-type {\n",
       "        vertical-align: middle;\n",
       "    }\n",
       "\n",
       "    .dataframe tbody tr th {\n",
       "        vertical-align: top;\n",
       "    }\n",
       "\n",
       "    .dataframe thead th {\n",
       "        text-align: right;\n",
       "    }\n",
       "</style>\n",
       "<table border=\"1\" class=\"dataframe\">\n",
       "  <thead>\n",
       "    <tr style=\"text-align: right;\">\n",
       "      <th></th>\n",
       "      <th>CPI</th>\n",
       "    </tr>\n",
       "    <tr>\n",
       "      <th>Date</th>\n",
       "      <th></th>\n",
       "    </tr>\n",
       "  </thead>\n",
       "  <tbody>\n",
       "    <tr>\n",
       "      <th>Apr 21</th>\n",
       "      <td>532.32</td>\n",
       "    </tr>\n",
       "    <tr>\n",
       "      <th>Mar 21</th>\n",
       "      <td>523.53</td>\n",
       "    </tr>\n",
       "    <tr>\n",
       "      <th>Feb 21</th>\n",
       "      <td>517.96</td>\n",
       "    </tr>\n",
       "    <tr>\n",
       "      <th>Jan 21</th>\n",
       "      <td>513.30</td>\n",
       "    </tr>\n",
       "    <tr>\n",
       "      <th>Dec 20</th>\n",
       "      <td>504.81</td>\n",
       "    </tr>\n",
       "  </tbody>\n",
       "</table>\n",
       "</div>"
      ],
      "text/plain": [
       "           CPI\n",
       "Date          \n",
       "Apr 21  532.32\n",
       "Mar 21  523.53\n",
       "Feb 21  517.96\n",
       "Jan 21  513.30\n",
       "Dec 20  504.81"
      ]
     },
     "execution_count": 7,
     "metadata": {},
     "output_type": "execute_result"
    }
   ],
   "source": [
    "cpi_data_formatted = pd.DataFrame({'Date': cpi_dates, 'CPI': cpi_numbers})\n",
    "cpi_data_formatted.dropna(axis=0, inplace=True)\n",
    "cpi_data_formatted = cpi_data_formatted.reindex(index=cpi_data_formatted.index[::-1])\n",
    "cpi_data_formatted.set_index('Date', inplace=True)\n",
    "cpi_data_formatted.head()"
   ]
  },
  {
   "cell_type": "markdown",
   "metadata": {},
   "source": [
    "Fetching the USD/TRY data"
   ]
  },
  {
   "cell_type": "code",
   "execution_count": 8,
   "metadata": {},
   "outputs": [],
   "source": [
    "usd_try_data = pd.read_csv('USD_TRY_Monthly_f2003.csv')"
   ]
  },
  {
   "cell_type": "code",
   "execution_count": 9,
   "metadata": {
    "scrolled": false
   },
   "outputs": [
    {
     "data": {
      "text/html": [
       "<div>\n",
       "<style scoped>\n",
       "    .dataframe tbody tr th:only-of-type {\n",
       "        vertical-align: middle;\n",
       "    }\n",
       "\n",
       "    .dataframe tbody tr th {\n",
       "        vertical-align: top;\n",
       "    }\n",
       "\n",
       "    .dataframe thead th {\n",
       "        text-align: right;\n",
       "    }\n",
       "</style>\n",
       "<table border=\"1\" class=\"dataframe\">\n",
       "  <thead>\n",
       "    <tr style=\"text-align: right;\">\n",
       "      <th></th>\n",
       "      <th>Price</th>\n",
       "      <th>Open</th>\n",
       "      <th>High</th>\n",
       "      <th>Low</th>\n",
       "      <th>Change %</th>\n",
       "    </tr>\n",
       "    <tr>\n",
       "      <th>Date</th>\n",
       "      <th></th>\n",
       "      <th></th>\n",
       "      <th></th>\n",
       "      <th></th>\n",
       "      <th></th>\n",
       "    </tr>\n",
       "  </thead>\n",
       "  <tbody>\n",
       "    <tr>\n",
       "      <th>Apr 21</th>\n",
       "      <td>8.2874</td>\n",
       "      <td>8.2596</td>\n",
       "      <td>8.4865</td>\n",
       "      <td>7.9775</td>\n",
       "      <td>0.53%</td>\n",
       "    </tr>\n",
       "    <tr>\n",
       "      <th>Mar 21</th>\n",
       "      <td>8.2439</td>\n",
       "      <td>7.4269</td>\n",
       "      <td>8.4677</td>\n",
       "      <td>7.1909</td>\n",
       "      <td>11.06%</td>\n",
       "    </tr>\n",
       "    <tr>\n",
       "      <th>Feb 21</th>\n",
       "      <td>7.4226</td>\n",
       "      <td>7.3151</td>\n",
       "      <td>7.4925</td>\n",
       "      <td>6.8882</td>\n",
       "      <td>1.47%</td>\n",
       "    </tr>\n",
       "    <tr>\n",
       "      <th>Jan 21</th>\n",
       "      <td>7.3149</td>\n",
       "      <td>7.4403</td>\n",
       "      <td>7.5452</td>\n",
       "      <td>7.2365</td>\n",
       "      <td>-1.64%</td>\n",
       "    </tr>\n",
       "    <tr>\n",
       "      <th>Dec 20</th>\n",
       "      <td>7.4370</td>\n",
       "      <td>7.8338</td>\n",
       "      <td>8.0315</td>\n",
       "      <td>7.3010</td>\n",
       "      <td>-5.05%</td>\n",
       "    </tr>\n",
       "    <tr>\n",
       "      <th>...</th>\n",
       "      <td>...</td>\n",
       "      <td>...</td>\n",
       "      <td>...</td>\n",
       "      <td>...</td>\n",
       "      <td>...</td>\n",
       "    </tr>\n",
       "    <tr>\n",
       "      <th>May 03</th>\n",
       "      <td>1.4290</td>\n",
       "      <td>1.5640</td>\n",
       "      <td>1.5695</td>\n",
       "      <td>1.4190</td>\n",
       "      <td>-8.73%</td>\n",
       "    </tr>\n",
       "    <tr>\n",
       "      <th>Apr 03</th>\n",
       "      <td>1.5657</td>\n",
       "      <td>1.7107</td>\n",
       "      <td>1.7127</td>\n",
       "      <td>1.5627</td>\n",
       "      <td>-8.73%</td>\n",
       "    </tr>\n",
       "    <tr>\n",
       "      <th>Mar 03</th>\n",
       "      <td>1.7155</td>\n",
       "      <td>1.6665</td>\n",
       "      <td>1.7755</td>\n",
       "      <td>1.5910</td>\n",
       "      <td>7.42%</td>\n",
       "    </tr>\n",
       "    <tr>\n",
       "      <th>Feb 03</th>\n",
       "      <td>1.5970</td>\n",
       "      <td>1.6510</td>\n",
       "      <td>1.6575</td>\n",
       "      <td>1.5880</td>\n",
       "      <td>-3.21%</td>\n",
       "    </tr>\n",
       "    <tr>\n",
       "      <th>Jan 03</th>\n",
       "      <td>1.6500</td>\n",
       "      <td>1.6600</td>\n",
       "      <td>1.7080</td>\n",
       "      <td>1.6390</td>\n",
       "      <td>-0.60%</td>\n",
       "    </tr>\n",
       "  </tbody>\n",
       "</table>\n",
       "<p>220 rows × 5 columns</p>\n",
       "</div>"
      ],
      "text/plain": [
       "         Price    Open    High     Low Change %\n",
       "Date                                           \n",
       "Apr 21  8.2874  8.2596  8.4865  7.9775    0.53%\n",
       "Mar 21  8.2439  7.4269  8.4677  7.1909   11.06%\n",
       "Feb 21  7.4226  7.3151  7.4925  6.8882    1.47%\n",
       "Jan 21  7.3149  7.4403  7.5452  7.2365   -1.64%\n",
       "Dec 20  7.4370  7.8338  8.0315  7.3010   -5.05%\n",
       "...        ...     ...     ...     ...      ...\n",
       "May 03  1.4290  1.5640  1.5695  1.4190   -8.73%\n",
       "Apr 03  1.5657  1.7107  1.7127  1.5627   -8.73%\n",
       "Mar 03  1.7155  1.6665  1.7755  1.5910    7.42%\n",
       "Feb 03  1.5970  1.6510  1.6575  1.5880   -3.21%\n",
       "Jan 03  1.6500  1.6600  1.7080  1.6390   -0.60%\n",
       "\n",
       "[220 rows x 5 columns]"
      ]
     },
     "execution_count": 9,
     "metadata": {},
     "output_type": "execute_result"
    }
   ],
   "source": [
    "usd_try_data.set_index('Date', inplace=True)\n",
    "usd_try_data"
   ]
  },
  {
   "cell_type": "code",
   "execution_count": 10,
   "metadata": {
    "scrolled": false
   },
   "outputs": [
    {
     "data": {
      "text/html": [
       "<div>\n",
       "<style scoped>\n",
       "    .dataframe tbody tr th:only-of-type {\n",
       "        vertical-align: middle;\n",
       "    }\n",
       "\n",
       "    .dataframe tbody tr th {\n",
       "        vertical-align: top;\n",
       "    }\n",
       "\n",
       "    .dataframe thead th {\n",
       "        text-align: right;\n",
       "    }\n",
       "</style>\n",
       "<table border=\"1\" class=\"dataframe\">\n",
       "  <thead>\n",
       "    <tr style=\"text-align: right;\">\n",
       "      <th></th>\n",
       "      <th>Price</th>\n",
       "      <th>Open</th>\n",
       "      <th>High</th>\n",
       "      <th>Low</th>\n",
       "      <th>Change %</th>\n",
       "      <th>CPI</th>\n",
       "    </tr>\n",
       "    <tr>\n",
       "      <th>Date</th>\n",
       "      <th></th>\n",
       "      <th></th>\n",
       "      <th></th>\n",
       "      <th></th>\n",
       "      <th></th>\n",
       "      <th></th>\n",
       "    </tr>\n",
       "  </thead>\n",
       "  <tbody>\n",
       "    <tr>\n",
       "      <th>Apr 21</th>\n",
       "      <td>8.2874</td>\n",
       "      <td>8.2596</td>\n",
       "      <td>8.4865</td>\n",
       "      <td>7.9775</td>\n",
       "      <td>0.53%</td>\n",
       "      <td>532.32</td>\n",
       "    </tr>\n",
       "    <tr>\n",
       "      <th>Mar 21</th>\n",
       "      <td>8.2439</td>\n",
       "      <td>7.4269</td>\n",
       "      <td>8.4677</td>\n",
       "      <td>7.1909</td>\n",
       "      <td>11.06%</td>\n",
       "      <td>523.53</td>\n",
       "    </tr>\n",
       "    <tr>\n",
       "      <th>Feb 21</th>\n",
       "      <td>7.4226</td>\n",
       "      <td>7.3151</td>\n",
       "      <td>7.4925</td>\n",
       "      <td>6.8882</td>\n",
       "      <td>1.47%</td>\n",
       "      <td>517.96</td>\n",
       "    </tr>\n",
       "    <tr>\n",
       "      <th>Jan 21</th>\n",
       "      <td>7.3149</td>\n",
       "      <td>7.4403</td>\n",
       "      <td>7.5452</td>\n",
       "      <td>7.2365</td>\n",
       "      <td>-1.64%</td>\n",
       "      <td>513.30</td>\n",
       "    </tr>\n",
       "    <tr>\n",
       "      <th>Dec 20</th>\n",
       "      <td>7.4370</td>\n",
       "      <td>7.8338</td>\n",
       "      <td>8.0315</td>\n",
       "      <td>7.3010</td>\n",
       "      <td>-5.05%</td>\n",
       "      <td>504.81</td>\n",
       "    </tr>\n",
       "  </tbody>\n",
       "</table>\n",
       "</div>"
      ],
      "text/plain": [
       "         Price    Open    High     Low Change %     CPI\n",
       "Date                                                   \n",
       "Apr 21  8.2874  8.2596  8.4865  7.9775    0.53%  532.32\n",
       "Mar 21  8.2439  7.4269  8.4677  7.1909   11.06%  523.53\n",
       "Feb 21  7.4226  7.3151  7.4925  6.8882    1.47%  517.96\n",
       "Jan 21  7.3149  7.4403  7.5452  7.2365   -1.64%  513.30\n",
       "Dec 20  7.4370  7.8338  8.0315  7.3010   -5.05%  504.81"
      ]
     },
     "execution_count": 10,
     "metadata": {},
     "output_type": "execute_result"
    }
   ],
   "source": [
    "cpi_currency_data = pd.concat([usd_try_data, cpi_data_formatted], axis=1)\n",
    "cpi_currency_data.head()"
   ]
  },
  {
   "cell_type": "code",
   "execution_count": 11,
   "metadata": {},
   "outputs": [],
   "source": [
    "cpi_currency_data.reset_index(inplace=True)"
   ]
  },
  {
   "cell_type": "code",
   "execution_count": 12,
   "metadata": {},
   "outputs": [],
   "source": [
    "cpi_currency_data['Date'] = pd.to_datetime(cpi_currency_data['Date'], format=\"%b %y\")"
   ]
  },
  {
   "cell_type": "code",
   "execution_count": 13,
   "metadata": {},
   "outputs": [
    {
     "name": "stdout",
     "output_type": "stream",
     "text": [
      "<class 'pandas.core.frame.DataFrame'>\n",
      "RangeIndex: 220 entries, 0 to 219\n",
      "Data columns (total 7 columns):\n",
      " #   Column    Non-Null Count  Dtype         \n",
      "---  ------    --------------  -----         \n",
      " 0   Date      220 non-null    datetime64[ns]\n",
      " 1   Price     220 non-null    float64       \n",
      " 2   Open      220 non-null    float64       \n",
      " 3   High      220 non-null    float64       \n",
      " 4   Low       220 non-null    float64       \n",
      " 5   Change %  220 non-null    object        \n",
      " 6   CPI       220 non-null    float64       \n",
      "dtypes: datetime64[ns](1), float64(5), object(1)\n",
      "memory usage: 12.2+ KB\n"
     ]
    }
   ],
   "source": [
    "cpi_currency_data.info()"
   ]
  },
  {
   "cell_type": "markdown",
   "metadata": {},
   "source": [
    "## Exploratory Data Analysis"
   ]
  },
  {
   "cell_type": "code",
   "execution_count": 14,
   "metadata": {},
   "outputs": [],
   "source": [
    "sns.set(rc={'figure.figsize':(12,5)})\n",
    "sns.set_style('darkgrid')"
   ]
  },
  {
   "cell_type": "code",
   "execution_count": 15,
   "metadata": {
    "scrolled": true
   },
   "outputs": [
    {
     "data": {
      "image/png": "[encoded data removed]",
      "text/plain": [
       "<Figure size 864x360 with 1 Axes>"
      ]
     },
     "metadata": {},
     "output_type": "display_data"
    }
   ],
   "source": [
    "sns.lineplot(x='Date', y='CPI', data=cpi_currency_data)\n",
    "plt.title('CPI of Turkey over the years', fontsize=20)\n",
    "plt.show()"
   ]
  },
  {
   "cell_type": "code",
   "execution_count": 16,
   "metadata": {
    "scrolled": false
   },
   "outputs": [
    {
     "data": {
      "image/png": "[encoded data removed]",
      "text/plain": [
       "<Figure size 864x360 with 1 Axes>"
      ]
     },
     "metadata": {},
     "output_type": "display_data"
    }
   ],
   "source": [
    "sns.lineplot(x='Date', y='Price', data=cpi_currency_data)\n",
    "plt.title('USD/TRY of Turkey over the years', fontsize=20)\n",
    "plt.show()"
   ]
  },
  {
   "cell_type": "markdown",
   "metadata": {},
   "source": [
    "## Linear Regression and Residual Analysis"
   ]
  },
  {
   "cell_type": "code",
   "execution_count": 17,
   "metadata": {},
   "outputs": [],
   "source": [
    "import statsmodels.api as sm\n",
    "from statsmodels.formula.api import ols\n",
    "import statsmodels.stats.api as sms"
   ]
  },
  {
   "cell_type": "code",
   "execution_count": 18,
   "metadata": {},
   "outputs": [],
   "source": [
    "lin_mod = ols('CPI ~ Price', data=cpi_currency_data).fit()"
   ]
  },
  {
   "cell_type": "code",
   "execution_count": 19,
   "metadata": {
    "scrolled": false
   },
   "outputs": [
    {
     "name": "stdout",
     "output_type": "stream",
     "text": [
      "                            OLS Regression Results                            \n",
      "==============================================================================\n",
      "Dep. Variable:                    CPI   R-squared:                       0.922\n",
      "Model:                            OLS   Adj. R-squared:                  0.921\n",
      "Method:                 Least Squares   F-statistic:                     2571.\n",
      "Date:                Sun, 30 May 2021   Prob (F-statistic):          1.21e-122\n",
      "Time:                        08:29:25   Log-Likelihood:                -1069.0\n",
      "No. Observations:                 220   AIC:                             2142.\n",
      "Df Residuals:                     218   BIC:                             2149.\n",
      "Df Model:                           1                                         \n",
      "Covariance Type:            nonrobust                                         \n",
      "==============================================================================\n",
      "                 coef    std err          t      P>|t|      [0.025      0.975]\n",
      "------------------------------------------------------------------------------\n",
      "Intercept     73.5208      3.753     19.587      0.000      66.123      80.919\n",
      "Price         59.2999      1.169     50.708      0.000      56.995      61.605\n",
      "==============================================================================\n",
      "Omnibus:                       19.314   Durbin-Watson:                   0.119\n",
      "Prob(Omnibus):                  0.000   Jarque-Bera (JB):               21.050\n",
      "Skew:                          -0.724   Prob(JB):                     2.68e-05\n",
      "Kurtosis:                       2.551   Cond. No.                         6.09\n",
      "==============================================================================\n",
      "\n",
      "Notes:\n",
      "[1] Standard Errors assume that the covariance matrix of the errors is correctly specified.\n"
     ]
    }
   ],
   "source": [
    "print(lin_mod.summary())"
   ]
  },
  {
   "cell_type": "code",
   "execution_count": 175,
   "metadata": {
    "scrolled": false
   },
   "outputs": [
    {
     "data": {
      "image/png": "[encoded data removed]",
      "text/plain": [
       "<Figure size 864x576 with 4 Axes>"
      ]
     },
     "metadata": {},
     "output_type": "display_data"
    }
   ],
   "source": [
    "fig = plt.figure(figsize=(12,8))\n",
    "fig = sm.graphics.plot_regress_exog(lin_mod, 'Price', fig=fig)\n",
    "plt.show()"
   ]
  },
  {
   "cell_type": "code",
   "execution_count": 27,
   "metadata": {
    "scrolled": false
   },
   "outputs": [
    {
     "data": {
      "image/png": "[encoded data removed]",
      "text/plain": [
       "<Figure size 864x360 with 1 Axes>"
      ]
     },
     "metadata": {},
     "output_type": "display_data"
    }
   ],
   "source": [
    "pplot = sm.ProbPlot(lin_mod.resid)\n",
    "fig = pplot.qqplot()\n",
    "plt.show()"
   ]
  },
  {
   "cell_type": "markdown",
   "metadata": {},
   "source": [
    "Q-Q Plot shows Left-Skewness"
   ]
  },
  {
   "cell_type": "markdown",
   "metadata": {},
   "source": [
    "## Predictive Analysis"
   ]
  },
  {
   "cell_type": "code",
   "execution_count": 26,
   "metadata": {},
   "outputs": [],
   "source": [
    "from sklearn.model_selection import train_test_split\n",
    "from sklearn.metrics import mean_absolute_error, mean_squared_error, explained_variance_score, r2_score"
   ]
  },
  {
   "cell_type": "code",
   "execution_count": 27,
   "metadata": {},
   "outputs": [
    {
     "data": {
      "text/html": [
       "<div>\n",
       "<style scoped>\n",
       "    .dataframe tbody tr th:only-of-type {\n",
       "        vertical-align: middle;\n",
       "    }\n",
       "\n",
       "    .dataframe tbody tr th {\n",
       "        vertical-align: top;\n",
       "    }\n",
       "\n",
       "    .dataframe thead th {\n",
       "        text-align: right;\n",
       "    }\n",
       "</style>\n",
       "<table border=\"1\" class=\"dataframe\">\n",
       "  <thead>\n",
       "    <tr style=\"text-align: right;\">\n",
       "      <th></th>\n",
       "      <th>Date</th>\n",
       "      <th>Price</th>\n",
       "      <th>Open</th>\n",
       "      <th>High</th>\n",
       "      <th>Low</th>\n",
       "      <th>Change %</th>\n",
       "      <th>CPI</th>\n",
       "    </tr>\n",
       "  </thead>\n",
       "  <tbody>\n",
       "    <tr>\n",
       "      <th>0</th>\n",
       "      <td>2021-04-01</td>\n",
       "      <td>8.2874</td>\n",
       "      <td>8.2596</td>\n",
       "      <td>8.4865</td>\n",
       "      <td>7.9775</td>\n",
       "      <td>0.53%</td>\n",
       "      <td>532.32</td>\n",
       "    </tr>\n",
       "    <tr>\n",
       "      <th>1</th>\n",
       "      <td>2021-03-01</td>\n",
       "      <td>8.2439</td>\n",
       "      <td>7.4269</td>\n",
       "      <td>8.4677</td>\n",
       "      <td>7.1909</td>\n",
       "      <td>11.06%</td>\n",
       "      <td>523.53</td>\n",
       "    </tr>\n",
       "    <tr>\n",
       "      <th>2</th>\n",
       "      <td>2021-02-01</td>\n",
       "      <td>7.4226</td>\n",
       "      <td>7.3151</td>\n",
       "      <td>7.4925</td>\n",
       "      <td>6.8882</td>\n",
       "      <td>1.47%</td>\n",
       "      <td>517.96</td>\n",
       "    </tr>\n",
       "    <tr>\n",
       "      <th>3</th>\n",
       "      <td>2021-01-01</td>\n",
       "      <td>7.3149</td>\n",
       "      <td>7.4403</td>\n",
       "      <td>7.5452</td>\n",
       "      <td>7.2365</td>\n",
       "      <td>-1.64%</td>\n",
       "      <td>513.30</td>\n",
       "    </tr>\n",
       "    <tr>\n",
       "      <th>4</th>\n",
       "      <td>2020-12-01</td>\n",
       "      <td>7.4370</td>\n",
       "      <td>7.8338</td>\n",
       "      <td>8.0315</td>\n",
       "      <td>7.3010</td>\n",
       "      <td>-5.05%</td>\n",
       "      <td>504.81</td>\n",
       "    </tr>\n",
       "  </tbody>\n",
       "</table>\n",
       "</div>"
      ],
      "text/plain": [
       "        Date   Price    Open    High     Low Change %     CPI\n",
       "0 2021-04-01  8.2874  8.2596  8.4865  7.9775    0.53%  532.32\n",
       "1 2021-03-01  8.2439  7.4269  8.4677  7.1909   11.06%  523.53\n",
       "2 2021-02-01  7.4226  7.3151  7.4925  6.8882    1.47%  517.96\n",
       "3 2021-01-01  7.3149  7.4403  7.5452  7.2365   -1.64%  513.30\n",
       "4 2020-12-01  7.4370  7.8338  8.0315  7.3010   -5.05%  504.81"
      ]
     },
     "execution_count": 27,
     "metadata": {},
     "output_type": "execute_result"
    }
   ],
   "source": [
    "cpi_currency_data.head()"
   ]
  },
  {
   "cell_type": "code",
   "execution_count": 28,
   "metadata": {},
   "outputs": [],
   "source": [
    "cpi_currency_data.drop([\"Open\", \"High\", \"Low\", \"Change %\"], axis=1, inplace=True)"
   ]
  },
  {
   "cell_type": "code",
   "execution_count": 29,
   "metadata": {},
   "outputs": [],
   "source": [
    "cpi_currency_data['Year'] = cpi_currency_data['Date'].apply(lambda x: x.year)\n",
    "cpi_currency_data['Month'] = cpi_currency_data['Date'].apply(lambda x: x.month)"
   ]
  },
  {
   "cell_type": "code",
   "execution_count": 30,
   "metadata": {},
   "outputs": [],
   "source": [
    "cpi_currency_data.drop('Date', axis=1, inplace=True)"
   ]
  },
  {
   "cell_type": "markdown",
   "metadata": {},
   "source": [
    "#### Splitting"
   ]
  },
  {
   "cell_type": "code",
   "execution_count": 31,
   "metadata": {},
   "outputs": [],
   "source": [
    "X = cpi_currency_data.drop(['Price', 'CPI'], axis=1)\n",
    "y = cpi_currency_data['Price']"
   ]
  },
  {
   "cell_type": "code",
   "execution_count": 32,
   "metadata": {},
   "outputs": [],
   "source": [
    "X_train, X_test, y_train, y_test = train_test_split(X, y, test_size=0.20, random_state=42)"
   ]
  },
  {
   "cell_type": "markdown",
   "metadata": {},
   "source": [
    "### Using SVR To Predict USD/TRY Price"
   ]
  },
  {
   "cell_type": "code",
   "execution_count": 33,
   "metadata": {},
   "outputs": [],
   "source": [
    "from sklearn.preprocessing import StandardScaler\n",
    "from sklearn.model_selection import GridSearchCV\n",
    "from sklearn.svm import SVR"
   ]
  },
  {
   "cell_type": "code",
   "execution_count": 34,
   "metadata": {},
   "outputs": [],
   "source": [
    "param_grid = {'C':[0.1,1,10,100,1000, 100000], 'gamma':[1,0.1,0.01,0.001,0.00001]}"
   ]
  },
  {
   "cell_type": "code",
   "execution_count": 35,
   "metadata": {},
   "outputs": [],
   "source": [
    "grid = GridSearchCV(SVR(), param_grid, verbose=3, n_jobs=-1)"
   ]
  },
  {
   "cell_type": "code",
   "execution_count": 202,
   "metadata": {
    "scrolled": false
   },
   "outputs": [
    {
     "name": "stdout",
     "output_type": "stream",
     "text": [
      "Fitting 5 folds for each of 30 candidates, totalling 150 fits\n"
     ]
    },
    {
     "data": {
      "text/plain": [
       "GridSearchCV(estimator=SVR(), n_jobs=-1,\n",
       "             param_grid={'C': [0.1, 1, 10, 100, 1000, 100000],\n",
       "                         'gamma': [1, 0.1, 0.01, 0.001, 1e-05],\n",
       "                         'kernel': ['rbf']},\n",
       "             verbose=3)"
      ]
     },
     "execution_count": 202,
     "metadata": {},
     "output_type": "execute_result"
    }
   ],
   "source": [
    "grid.fit(X_train, y_train)"
   ]
  },
  {
   "cell_type": "code",
   "execution_count": 203,
   "metadata": {},
   "outputs": [],
   "source": [
    "svr_pred = grid.predict(X_test)"
   ]
  },
  {
   "cell_type": "code",
   "execution_count": 204,
   "metadata": {
    "scrolled": true
   },
   "outputs": [
    {
     "data": {
      "text/plain": [
       "{'C': 100, 'gamma': 0.01, 'kernel': 'rbf'}"
      ]
     },
     "execution_count": 204,
     "metadata": {},
     "output_type": "execute_result"
    }
   ],
   "source": [
    "grid.best_params_"
   ]
  },
  {
   "cell_type": "code",
   "execution_count": 205,
   "metadata": {
    "scrolled": true
   },
   "outputs": [
    {
     "name": "stdout",
     "output_type": "stream",
     "text": [
      "MAR: 0.12766723513862768\n",
      "MSE: 0.033015488822732246\n",
      "RMSE: 0.18170164782613352\n",
      "Explained Variance: 0.9857777954908138\n",
      "Coefficient of Determination: 0.9857363498599188\n"
     ]
    }
   ],
   "source": [
    "print('MAR:', mean_absolute_error(y_test, svr_pred))\n",
    "print('MSE:', mean_squared_error(y_test, svr_pred))\n",
    "print('RMSE:', mean_squared_error(y_test, svr_pred) ** 0.5)\n",
    "print('Explained Variance:', explained_variance_score(y_test, svr_pred))\n",
    "print('Coefficient of Determination:', r2_score(y_test, svr_pred))"
   ]
  },
  {
   "cell_type": "code",
   "execution_count": 40,
   "metadata": {},
   "outputs": [],
   "source": [
    "pred_to_real = pd.concat([X_test.reset_index().drop('index', axis=1), y_test.reset_index().drop('index', axis=1), pd.Series(svr_pred, name='Predicted Price')], axis=1).head()"
   ]
  },
  {
   "cell_type": "code",
   "execution_count": 41,
   "metadata": {
    "scrolled": true
   },
   "outputs": [
    {
     "data": {
      "text/plain": [
       "<AxesSubplot:xlabel='Year', ylabel='Price'>"
      ]
     },
     "execution_count": 41,
     "metadata": {},
     "output_type": "execute_result"
    },
    {
     "data": {
      "image/png": "[encoded data removed]",
      "text/plain": [
       "<Figure size 864x360 with 1 Axes>"
      ]
     },
     "metadata": {},
     "output_type": "display_data"
    }
   ],
   "source": [
    "sns.lineplot(x='Year', y='Price', data=pred_to_real)\n",
    "sns.lineplot(x='Year', y='Predicted Price', data=pred_to_real)"
   ]
  },
  {
   "cell_type": "markdown",
   "metadata": {},
   "source": [
    "### Predicting Price until year 2030"
   ]
  },
  {
   "cell_type": "code",
   "execution_count": 152,
   "metadata": {},
   "outputs": [
    {
     "data": {
      "text/html": [
       "<div>\n",
       "<style scoped>\n",
       "    .dataframe tbody tr th:only-of-type {\n",
       "        vertical-align: middle;\n",
       "    }\n",
       "\n",
       "    .dataframe tbody tr th {\n",
       "        vertical-align: top;\n",
       "    }\n",
       "\n",
       "    .dataframe thead th {\n",
       "        text-align: right;\n",
       "    }\n",
       "</style>\n",
       "<table border=\"1\" class=\"dataframe\">\n",
       "  <thead>\n",
       "    <tr style=\"text-align: right;\">\n",
       "      <th></th>\n",
       "      <th>Year</th>\n",
       "      <th>Month</th>\n",
       "    </tr>\n",
       "  </thead>\n",
       "  <tbody>\n",
       "    <tr>\n",
       "      <th>0</th>\n",
       "      <td>2029</td>\n",
       "      <td>12</td>\n",
       "    </tr>\n",
       "    <tr>\n",
       "      <th>1</th>\n",
       "      <td>2029</td>\n",
       "      <td>11</td>\n",
       "    </tr>\n",
       "    <tr>\n",
       "      <th>2</th>\n",
       "      <td>2029</td>\n",
       "      <td>10</td>\n",
       "    </tr>\n",
       "    <tr>\n",
       "      <th>3</th>\n",
       "      <td>2029</td>\n",
       "      <td>9</td>\n",
       "    </tr>\n",
       "    <tr>\n",
       "      <th>4</th>\n",
       "      <td>2029</td>\n",
       "      <td>8</td>\n",
       "    </tr>\n",
       "  </tbody>\n",
       "</table>\n",
       "</div>"
      ],
      "text/plain": [
       "   Year  Month\n",
       "0  2029     12\n",
       "1  2029     11\n",
       "2  2029     10\n",
       "3  2029      9\n",
       "4  2029      8"
      ]
     },
     "execution_count": 152,
     "metadata": {},
     "output_type": "execute_result"
    }
   ],
   "source": [
    "projected_date_df = pd.DataFrame(pd.date_range(start='2021-05-01', periods=104, freq='M'), columns=['Date'])\n",
    "projected_date_df = projected_date_df.sort_values(by='Date', ascending=False)\n",
    "projected_date_df['Year'] = projected_date_df['Date'].apply(lambda x: x.year)\n",
    "projected_date_df['Month'] = projected_date_df['Date'].apply(lambda x: x.month)\n",
    "projected_date_df.drop('Date', axis=1, inplace=True)\n",
    "projected_date_df.reset_index(inplace=True)\n",
    "projected_date_df.drop('index', axis=1, inplace=True)\n",
    "projected_date_df.head(5)"
   ]
  },
  {
   "cell_type": "code",
   "execution_count": 153,
   "metadata": {},
   "outputs": [
    {
     "data": {
      "text/html": [
       "<div>\n",
       "<style scoped>\n",
       "    .dataframe tbody tr th:only-of-type {\n",
       "        vertical-align: middle;\n",
       "    }\n",
       "\n",
       "    .dataframe tbody tr th {\n",
       "        vertical-align: top;\n",
       "    }\n",
       "\n",
       "    .dataframe thead th {\n",
       "        text-align: right;\n",
       "    }\n",
       "</style>\n",
       "<table border=\"1\" class=\"dataframe\">\n",
       "  <thead>\n",
       "    <tr style=\"text-align: right;\">\n",
       "      <th></th>\n",
       "      <th>Year</th>\n",
       "      <th>Month</th>\n",
       "      <th>Projected Price</th>\n",
       "    </tr>\n",
       "  </thead>\n",
       "  <tbody>\n",
       "    <tr>\n",
       "      <th>0</th>\n",
       "      <td>2029</td>\n",
       "      <td>12</td>\n",
       "      <td>14.559462</td>\n",
       "    </tr>\n",
       "    <tr>\n",
       "      <th>1</th>\n",
       "      <td>2029</td>\n",
       "      <td>11</td>\n",
       "      <td>15.137862</td>\n",
       "    </tr>\n",
       "    <tr>\n",
       "      <th>2</th>\n",
       "      <td>2029</td>\n",
       "      <td>10</td>\n",
       "      <td>15.566552</td>\n",
       "    </tr>\n",
       "    <tr>\n",
       "      <th>3</th>\n",
       "      <td>2029</td>\n",
       "      <td>9</td>\n",
       "      <td>15.830271</td>\n",
       "    </tr>\n",
       "    <tr>\n",
       "      <th>4</th>\n",
       "      <td>2029</td>\n",
       "      <td>8</td>\n",
       "      <td>15.920449</td>\n",
       "    </tr>\n",
       "    <tr>\n",
       "      <th>...</th>\n",
       "      <td>...</td>\n",
       "      <td>...</td>\n",
       "      <td>...</td>\n",
       "    </tr>\n",
       "    <tr>\n",
       "      <th>99</th>\n",
       "      <td>2021</td>\n",
       "      <td>9</td>\n",
       "      <td>9.040613</td>\n",
       "    </tr>\n",
       "    <tr>\n",
       "      <th>100</th>\n",
       "      <td>2021</td>\n",
       "      <td>8</td>\n",
       "      <td>8.952991</td>\n",
       "    </tr>\n",
       "    <tr>\n",
       "      <th>101</th>\n",
       "      <td>2021</td>\n",
       "      <td>7</td>\n",
       "      <td>8.820774</td>\n",
       "    </tr>\n",
       "    <tr>\n",
       "      <th>102</th>\n",
       "      <td>2021</td>\n",
       "      <td>6</td>\n",
       "      <td>8.648148</td>\n",
       "    </tr>\n",
       "    <tr>\n",
       "      <th>103</th>\n",
       "      <td>2021</td>\n",
       "      <td>5</td>\n",
       "      <td>8.437015</td>\n",
       "    </tr>\n",
       "  </tbody>\n",
       "</table>\n",
       "<p>104 rows × 3 columns</p>\n",
       "</div>"
      ],
      "text/plain": [
       "     Year  Month  Projected Price\n",
       "0    2029     12        14.559462\n",
       "1    2029     11        15.137862\n",
       "2    2029     10        15.566552\n",
       "3    2029      9        15.830271\n",
       "4    2029      8        15.920449\n",
       "..    ...    ...              ...\n",
       "99   2021      9         9.040613\n",
       "100  2021      8         8.952991\n",
       "101  2021      7         8.820774\n",
       "102  2021      6         8.648148\n",
       "103  2021      5         8.437015\n",
       "\n",
       "[104 rows x 3 columns]"
      ]
     },
     "execution_count": 153,
     "metadata": {},
     "output_type": "execute_result"
    }
   ],
   "source": [
    "projected_price = grid.predict(projected_date_df)\n",
    "projection_data = pd.concat([projected_date_df ,pd.Series(projected_price, name='Projected Price')], axis=1)\n",
    "projection_data"
   ]
  },
  {
   "cell_type": "markdown",
   "metadata": {},
   "source": [
    "#### Using Equation From previous Linear Regression"
   ]
  },
  {
   "cell_type": "code",
   "execution_count": 154,
   "metadata": {
    "scrolled": false
   },
   "outputs": [
    {
     "name": "stdout",
     "output_type": "stream",
     "text": [
      "y = 73.52080213868524 + 59.29987654140391*x\n"
     ]
    }
   ],
   "source": [
    "print(f\"y = {res.intercept} + {res.slope}*x\")"
   ]
  },
  {
   "cell_type": "code",
   "execution_count": 155,
   "metadata": {},
   "outputs": [],
   "source": [
    "projection_data['Projected CPI'] = projection_data['Projected Price'].apply(lambda x:  73.52080213868524 + 59.29987654140391 * x )"
   ]
  },
  {
   "cell_type": "code",
   "execution_count": 156,
   "metadata": {},
   "outputs": [
    {
     "data": {
      "text/html": [
       "<div>\n",
       "<style scoped>\n",
       "    .dataframe tbody tr th:only-of-type {\n",
       "        vertical-align: middle;\n",
       "    }\n",
       "\n",
       "    .dataframe tbody tr th {\n",
       "        vertical-align: top;\n",
       "    }\n",
       "\n",
       "    .dataframe thead th {\n",
       "        text-align: right;\n",
       "    }\n",
       "</style>\n",
       "<table border=\"1\" class=\"dataframe\">\n",
       "  <thead>\n",
       "    <tr style=\"text-align: right;\">\n",
       "      <th></th>\n",
       "      <th>Year</th>\n",
       "      <th>Month</th>\n",
       "      <th>Projected Price</th>\n",
       "      <th>Projected CPI</th>\n",
       "    </tr>\n",
       "  </thead>\n",
       "  <tbody>\n",
       "    <tr>\n",
       "      <th>0</th>\n",
       "      <td>2029</td>\n",
       "      <td>12</td>\n",
       "      <td>14.559462</td>\n",
       "      <td>936.895095</td>\n",
       "    </tr>\n",
       "    <tr>\n",
       "      <th>1</th>\n",
       "      <td>2029</td>\n",
       "      <td>11</td>\n",
       "      <td>15.137862</td>\n",
       "      <td>971.194138</td>\n",
       "    </tr>\n",
       "    <tr>\n",
       "      <th>2</th>\n",
       "      <td>2029</td>\n",
       "      <td>10</td>\n",
       "      <td>15.566552</td>\n",
       "      <td>996.615403</td>\n",
       "    </tr>\n",
       "    <tr>\n",
       "      <th>3</th>\n",
       "      <td>2029</td>\n",
       "      <td>9</td>\n",
       "      <td>15.830271</td>\n",
       "      <td>1012.253917</td>\n",
       "    </tr>\n",
       "    <tr>\n",
       "      <th>4</th>\n",
       "      <td>2029</td>\n",
       "      <td>8</td>\n",
       "      <td>15.920449</td>\n",
       "      <td>1017.601438</td>\n",
       "    </tr>\n",
       "  </tbody>\n",
       "</table>\n",
       "</div>"
      ],
      "text/plain": [
       "   Year  Month  Projected Price  Projected CPI\n",
       "0  2029     12        14.559462     936.895095\n",
       "1  2029     11        15.137862     971.194138\n",
       "2  2029     10        15.566552     996.615403\n",
       "3  2029      9        15.830271    1012.253917\n",
       "4  2029      8        15.920449    1017.601438"
      ]
     },
     "execution_count": 156,
     "metadata": {},
     "output_type": "execute_result"
    }
   ],
   "source": [
    "projection_data.head()"
   ]
  },
  {
   "cell_type": "code",
   "execution_count": 158,
   "metadata": {},
   "outputs": [
    {
     "data": {
      "text/plain": [
       "<AxesSubplot:xlabel='Year', ylabel='Projected CPI'>"
      ]
     },
     "execution_count": 158,
     "metadata": {},
     "output_type": "execute_result"
    },
    {
     "data": {
      "image/png": "[encoded data removed]",
      "text/plain": [
       "<Figure size 864x360 with 1 Axes>"
      ]
     },
     "metadata": {},
     "output_type": "display_data"
    }
   ],
   "source": [
    "sns.lineplot(x='Year', y='Projected CPI', data=projection_data)"
   ]
  },
  {
   "cell_type": "code",
   "execution_count": 159,
   "metadata": {},
   "outputs": [
    {
     "data": {
      "text/plain": [
       "<AxesSubplot:xlabel='Year', ylabel='Projected Price'>"
      ]
     },
     "execution_count": 159,
     "metadata": {},
     "output_type": "execute_result"
    },
    {
     "data": {
      "image/png": "[encoded data removed]",
      "text/plain": [
       "<Figure size 864x360 with 1 Axes>"
      ]
     },
     "metadata": {},
     "output_type": "display_data"
    }
   ],
   "source": [
    "sns.lineplot(x='Year', y='Projected Price', data=projection_data)"
   ]
  },
  {
   "cell_type": "code",
   "execution_count": null,
   "metadata": {},
   "outputs": [],
   "source": []
  }
 ],
 "metadata": {
  "kernelspec": {
   "display_name": "Python 3",
   "language": "python",
   "name": "python3"
  },
  "language_info": {
   "codemirror_mode": {
    "name": "ipython",
    "version": 3
   },
   "file_extension": ".py",
   "mimetype": "text/x-python",
   "name": "python",
   "nbconvert_exporter": "python",
   "pygments_lexer": "ipython3",
   "version": "3.8.5"
  }
 },
 "nbformat": 4,
 "nbformat_minor": 4
}
